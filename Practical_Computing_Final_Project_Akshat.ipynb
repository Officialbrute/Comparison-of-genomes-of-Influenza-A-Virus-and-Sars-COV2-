{
 "cells": [
  {
   "cell_type": "code",
   "execution_count": 1,
   "id": "a596c21a",
   "metadata": {},
   "outputs": [],
   "source": [
    "#Reading the sequence from Sars_Cov_2 obtained from https://www.ncbi.nlm.nih.gov/nuccore/NC_045512\n",
    "Sars = \"\"\n",
    "with open ('Sars_Cov_2') as f:\n",
    "    #next ignores the header which is a string\n",
    "    next(f)\n",
    "    for line in f:\n",
    "        #The .strip() function removes '\\n' at the end of the lines\n",
    "        line=line.strip()\n",
    "        \n",
    "        #Splitting using '\\t' as the delimeter and appending to a list\n",
    "        Sars += line\n",
    "        "
   ]
  },
  {
   "cell_type": "code",
   "execution_count": 2,
   "id": "abcaa4eb",
   "metadata": {},
   "outputs": [],
   "source": [
    "#Reading the sequence from Influenza.fna obtained from https://www.ncbi.nlm.nih.gov/genome/?term=H1N1\n",
    "Influenza= \"\"\n",
    "with open ('Influenza.fna') as f:\n",
    "    for line in f:\n",
    "        #If the line begins with a \">\" then we want to ignore that line\n",
    "        if line[0] == \">\":\n",
    "            line=line.strip()\n",
    "        else:\n",
    "            line=line.strip()\n",
    "            #Splitting using '\\t' as the delimeter and appending to a list\n",
    "            Influenza += line"
   ]
  },
  {
   "cell_type": "code",
   "execution_count": 3,
   "id": "40fd1382",
   "metadata": {},
   "outputs": [],
   "source": [
    "#Since viral genomes have RNA, convert the thymine (T) residues to uracil (U) residues for analysis\n",
    "Influenza = Influenza.replace(\"T\",\"U\")\n",
    "Sars = Sars.replace (\"T\",\"U\")"
   ]
  },
  {
   "cell_type": "code",
   "execution_count": 4,
   "id": "47ef8c6e",
   "metadata": {},
   "outputs": [],
   "source": [
    "#1\n",
    "#Calculate the A, U, C, and G content in the sequence\n",
    "#Using the .count() and len functions \n",
    "def AUGC_Percentage(sequence):\n",
    "    sequence.upper()\n",
    "    A_count = sequence.count('A')\n",
    "    U_count = sequence.count('U')\n",
    "    G_count = sequence.count('G')\n",
    "    C_count = sequence.count('C')\n",
    "    seq_length = len(sequence)\n",
    "    print(\"The Percentage of adenine (A) is\",(A_count/seq_length)*100)\n",
    "    print(\"The Percentage of uracil (U) is\",(U_count/seq_length)*100)\n",
    "    print(\"The Percentage of guanine (G) is\",(G_count/seq_length)*100)\n",
    "    print(\"The Percentage of cytosine (C)is\",(C_count/seq_length)*100)\n",
    "    "
   ]
  },
  {
   "cell_type": "code",
   "execution_count": 5,
   "id": "22ed9253",
   "metadata": {},
   "outputs": [
    {
     "name": "stdout",
     "output_type": "stream",
     "text": [
      "The Percentage of adenine (A) is 33.6170837308285\n",
      "The Percentage of uracil (U) is 23.45343802744551\n",
      "The Percentage of guanine (G) is 23.651574080868865\n",
      "The Percentage of cytosine (C)is 19.27790416085712\n"
     ]
    }
   ],
   "source": [
    "AUGC_Percentage(Influenza)"
   ]
  },
  {
   "cell_type": "code",
   "execution_count": 6,
   "id": "64f9afa1",
   "metadata": {},
   "outputs": [
    {
     "name": "stdout",
     "output_type": "stream",
     "text": [
      "The Percentage of adenine (A) is 29.943483931378122\n",
      "The Percentage of uracil (U) is 32.083737417650404\n",
      "The Percentage of guanine (G) is 19.60672842189747\n",
      "The Percentage of cytosine (C)is 18.366050229074006\n"
     ]
    }
   ],
   "source": [
    "AUGC_Percentage(Sars)"
   ]
  },
  {
   "cell_type": "code",
   "execution_count": 7,
   "id": "fe7d2e76",
   "metadata": {},
   "outputs": [],
   "source": [
    "#2\n",
    "#Calculate the GC content of the sequence\n",
    "def GC_Content(sequence):\n",
    "    sequence.upper()\n",
    "    G_count = sequence.count('G')\n",
    "    C_count = sequence.count('C')\n",
    "    GC_count = G_count + C_count\n",
    "    seq_length = len(sequence)\n",
    "    print(\"The GC content of this sequence is\",(GC_count/seq_length)*100)\n",
    "    "
   ]
  },
  {
   "cell_type": "code",
   "execution_count": 8,
   "id": "18d9c50c",
   "metadata": {},
   "outputs": [
    {
     "name": "stdout",
     "output_type": "stream",
     "text": [
      "The GC content of this sequence is 37.97277865097147\n"
     ]
    }
   ],
   "source": [
    "GC_Content(Sars)"
   ]
  },
  {
   "cell_type": "code",
   "execution_count": 9,
   "id": "63a0b7ee",
   "metadata": {},
   "outputs": [
    {
     "name": "stdout",
     "output_type": "stream",
     "text": [
      "The GC content of this sequence is 42.92947824172599\n"
     ]
    }
   ],
   "source": [
    "GC_Content(Influenza)"
   ]
  },
  {
   "cell_type": "code",
   "execution_count": 10,
   "id": "25d45609",
   "metadata": {},
   "outputs": [],
   "source": [
    "#Function to calculate the reverse complement of a string\n",
    "def ReverseComplement(string):\n",
    "    reverse = list(string[::-1])\n",
    "    complement = ''\n",
    "    for i in range(len(reverse)):\n",
    "        if reverse[i] == \"A\":\n",
    "            complement += \"U\"\n",
    "        elif reverse[i] == \"U\":\n",
    "            complement += \"A\"\n",
    "        elif reverse[i] == \"C\":\n",
    "            complement +=  \"G\"\n",
    "        elif reverse[i] == \"G\":\n",
    "            complement += \"C\"\n",
    "    return complement\n",
    "    "
   ]
  },
  {
   "cell_type": "code",
   "execution_count": 11,
   "id": "f439bccf",
   "metadata": {},
   "outputs": [],
   "source": [
    "#3\n",
    "#Scan the strand in both forward and reverse directions and look for any potential reading frames\n",
    "def Open_reading_frames(sequence):\n",
    "    sequence.upper()\n",
    "    orf = []\n",
    "    #AUG represents a start codon\n",
    "    start = 'AUG'\n",
    "    #UGA,UAA,UAG represent a stop codon\n",
    "    stop = ['UGA','UAA','UAG']\n",
    "    reading_frame = ''\n",
    "    #Loop through the sequence\n",
    "    for i in range(0,len(sequence)):\n",
    "        if sequence[i:i+3] == start:\n",
    "            #If a start codon is found, start appending the sequence till a stop codon is found.\n",
    "            while i < len(sequence):\n",
    "                reading_frame += sequence[i:i+3]\n",
    "                if sequence[i:i+3] in stop:\n",
    "                    break\n",
    "                i += 3\n",
    "        #If the the length of the reading frame is greater than 150 (50 codons), only then, append to list\n",
    "        if len(reading_frame)>=150 :\n",
    "            orf.append(reading_frame)\n",
    "            reading_frame = ''\n",
    "    return orf"
   ]
  },
  {
   "cell_type": "code",
   "execution_count": 12,
   "id": "1f99fe16",
   "metadata": {},
   "outputs": [],
   "source": [
    "#Looking for reading frames in the forward direction\n",
    "Influenza_orf_forward = Open_reading_frames(Influenza)\n",
    "Sars_orf_forward = Open_reading_frames(Sars)\n",
    "\n",
    "#Finding the reverse complement of the sequence\n",
    "Influenza_reverse = ReverseComplement(Influenza)\n",
    "Sars_reverse = ReverseComplement(Sars)\n",
    "\n",
    "#Looking for reading frames in the reverse direction\n",
    "Influenza_orf_reverse = Open_reading_frames(Influenza_reverse)\n",
    "Sars_orf_reverse = Open_reading_frames(Sars_reverse)"
   ]
  },
  {
   "cell_type": "code",
   "execution_count": 13,
   "id": "9918ded6",
   "metadata": {},
   "outputs": [],
   "source": [
    "#Import Seq\n",
    "from Bio.Seq import Seq"
   ]
  },
  {
   "cell_type": "code",
   "execution_count": 14,
   "id": "c0aaad61",
   "metadata": {},
   "outputs": [
    {
     "name": "stderr",
     "output_type": "stream",
     "text": [
      "/home/anil/anaconda3/envs/csb/lib/python3.10/site-packages/Bio/Seq.py:2979: BiopythonWarning: Partial codon, len(sequence) not a multiple of three. Explicitly trim the sequence or add trailing N before translation. This may become an error in future.\n",
      "  warnings.warn(\n"
     ]
    }
   ],
   "source": [
    "#4\n",
    "#Getting all the proteins using the translate function from the Seq package\n",
    "Influenza_proteins_forward = []\n",
    "for i in range(len(Influenza_orf_forward)):\n",
    "    messenger_rna = Seq(Influenza_orf_forward[i])\n",
    "    tmp = str(messenger_rna.translate())\n",
    "    Influenza_proteins_forward.append(tmp)\n",
    "    \n",
    "Influenza_proteins_reverse = []\n",
    "for i in range(len(Influenza_orf_reverse)):\n",
    "    messenger_rna = Seq(Influenza_orf_reverse[i])\n",
    "    tmp = str(messenger_rna.translate())\n",
    "    Influenza_proteins_reverse.append(tmp)\n",
    "    \n",
    "Sars_proteins_forward = []\n",
    "for i in range(len(Sars_orf_forward)):\n",
    "    messenger_rna = Seq(Sars_orf_forward[i])\n",
    "    tmp = str(messenger_rna.translate())\n",
    "    Sars_proteins_forward.append(tmp)\n",
    " \n",
    "Sars_proteins_reverse = []\n",
    "for i in range(len(Sars_orf_reverse)):\n",
    "    messenger_rna = Seq(Sars_orf_reverse[i])\n",
    "    tmp = str(messenger_rna.translate())\n",
    "    Sars_proteins_reverse.append(tmp)\n"
   ]
  },
  {
   "cell_type": "code",
   "execution_count": 15,
   "id": "16f02468",
   "metadata": {},
   "outputs": [],
   "source": [
    "#Import the ProteinAnalysis package \n",
    "from Bio.SeqUtils.ProtParam import ProteinAnalysis"
   ]
  },
  {
   "cell_type": "code",
   "execution_count": 16,
   "id": "0d4f797a",
   "metadata": {},
   "outputs": [],
   "source": [
    "#5\n",
    "#Calculate the protein mass of every protein using the Proteinanalysis().molecularweight() function\n",
    "\n",
    "#MW of proteins translated from open reading frames in the forward strand\n",
    "Influenza_protein_mass_forward = {}\n",
    "for i in range(len(Influenza_proteins_forward)):\n",
    "    #if * is present that means a stop codon was present. Replace that with an empty string.\n",
    "    seq = Influenza_proteins_forward[i].replace('*','')\n",
    "    Influenza_protein_mass_forward[seq] = ProteinAnalysis(seq).molecular_weight()\n",
    "\n",
    "#MW of proteins translated from open reading frames in the reverse strand\n",
    "Influenza_protein_mass_reverse = {}\n",
    "for i in range(len(Influenza_proteins_reverse)):\n",
    "    #if * is present that means a stop codon was present. Replace that with an empty string.\n",
    "    seq = Influenza_proteins_reverse[i].replace('*','')\n",
    "    Influenza_protein_mass_reverse[seq] = ProteinAnalysis(seq).molecular_weight()\n",
    "\n",
    "#MW of proteins translated from open reading frames in the forward strand\n",
    "Sars_protein_mass_forward = {}\n",
    "for i in range(len(Sars_proteins_forward)):\n",
    "    #if * is present that means a stop codon was present. Replace that with an empty string.\n",
    "    seq = Sars_proteins_forward[i].replace('*','')\n",
    "    Sars_protein_mass_forward[seq] = ProteinAnalysis(seq).molecular_weight()\n",
    "    \n",
    "#MW of proteins translated from open reading frames in the reverse strand    \n",
    "Sars_protein_mass_reverse = {}\n",
    "for i in range(len(Sars_protein_mass_reverse)):\n",
    "    #if * is present that means a stop codon was present. Replace that with an empty string.\n",
    "    seq = Sars_protein_mass_reverse[i].replace('*','')\n",
    "    Sars_protein_mass_reverse[seq] = ProteinAnalysis(seq).molecular_weight()"
   ]
  },
  {
   "cell_type": "code",
   "execution_count": 17,
   "id": "fd3edbbc",
   "metadata": {},
   "outputs": [],
   "source": [
    "#7\n",
    "#FrequencyMap\n",
    "#Input : A sequence 'Text' and an integer K that is the length of the patterns we are looking for.\n",
    "#Output : It returns a dictionary where the keys are the patterns of length 'k' and the values are number of \n",
    "#times it was repeated in the 'Text'\n",
    "def FrequencyMap(Text, k):\n",
    "    #Create empty empty dictionary that will contain the patterns\n",
    "    Map={}\n",
    "    n = len(Text)\n",
    "    #Loop through the query sequence\n",
    "    for i in range(n-k+1):\n",
    "        #Create a window of length k and obtain all sequences of that length.\n",
    "        Pattern=Text[i:i+k]\n",
    "        #Add to dictionary and initialize value.\n",
    "        Map[Pattern]= Map.get(Pattern,0)+1\n",
    "    RecurrentPatterns = {}\n",
    "    for key in Map:\n",
    "        if Map[key]>1:\n",
    "            RecurrentPatterns[key] = Map[key]\n",
    "    return RecurrentPatterns"
   ]
  },
  {
   "cell_type": "code",
   "execution_count": 18,
   "id": "f5d3a1cc",
   "metadata": {},
   "outputs": [
    {
     "name": "stdout",
     "output_type": "stream",
     "text": [
      "{'ACCUUGUUUCUACUAGCAAA': 3, 'CCUUGUUUCUACUAGCAAAA': 7, 'CUUGUUUCUACUAGCAAAAG': 7, 'UUGUUUCUACUAGCAAAAGC': 7, 'UGUUUCUACUAGCAAAAGCA': 7, 'GUUUCUACUAGCAAAAGCAG': 7, 'UUUCUACUAGCAAAAGCAGG': 7, 'UUCUACUAGCAAAAGCAGGU': 2, 'UCUACUAGCAAAAGCAGGUA': 2, 'UACCUUGUUUCUACUAGCAA': 2, 'UUCUACUAGCAAAAGCAGGG': 3, 'AAAAACACCCUUGUUUCUAC': 2, 'AAAACACCCUUGUUUCUACU': 2, 'ACCCUUGUUUCUACUAGCAA': 2, 'CCCUUGUUUCUACUAGCAAA': 2, 'UCUACUAGCAAAAGCAGGGU': 2}\n"
     ]
    }
   ],
   "source": [
    "#Checking Kmers of length 20 in the Influenza genome\n",
    "K_mers_Influenza = FrequencyMap(Influenza,20)\n",
    "print(K_mers_Influenza)"
   ]
  },
  {
   "cell_type": "code",
   "execution_count": 19,
   "id": "f0addb77",
   "metadata": {},
   "outputs": [
    {
     "name": "stdout",
     "output_type": "stream",
     "text": [
      "{'AAAAAAAAAAAAAAAAAAAA': 14}\n"
     ]
    }
   ],
   "source": [
    "#Checking Kmers of length 20 in the Sars genome\n",
    "K_mers_Sars = FrequencyMap(Sars,20)\n",
    "print(K_mers_Sars)"
   ]
  },
  {
   "cell_type": "code",
   "execution_count": 20,
   "id": "54315862",
   "metadata": {},
   "outputs": [
    {
     "name": "stdout",
     "output_type": "stream",
     "text": [
      "No matches were found!\n",
      "ACCUUGUUUCUACUAGCAAA was not found in the Sars COV 2 genome!\n",
      "No matches were found!\n",
      "CCUUGUUUCUACUAGCAAAA was not found in the Sars COV 2 genome!\n",
      "No matches were found!\n",
      "CUUGUUUCUACUAGCAAAAG was not found in the Sars COV 2 genome!\n",
      "No matches were found!\n",
      "UUGUUUCUACUAGCAAAAGC was not found in the Sars COV 2 genome!\n",
      "No matches were found!\n",
      "UGUUUCUACUAGCAAAAGCA was not found in the Sars COV 2 genome!\n",
      "No matches were found!\n",
      "GUUUCUACUAGCAAAAGCAG was not found in the Sars COV 2 genome!\n",
      "No matches were found!\n",
      "UUUCUACUAGCAAAAGCAGG was not found in the Sars COV 2 genome!\n",
      "No matches were found!\n",
      "UUCUACUAGCAAAAGCAGGU was not found in the Sars COV 2 genome!\n",
      "No matches were found!\n",
      "UCUACUAGCAAAAGCAGGUA was not found in the Sars COV 2 genome!\n",
      "No matches were found!\n",
      "UACCUUGUUUCUACUAGCAA was not found in the Sars COV 2 genome!\n",
      "No matches were found!\n",
      "UUCUACUAGCAAAAGCAGGG was not found in the Sars COV 2 genome!\n",
      "No matches were found!\n",
      "AAAAACACCCUUGUUUCUAC was not found in the Sars COV 2 genome!\n",
      "No matches were found!\n",
      "AAAACACCCUUGUUUCUACU was not found in the Sars COV 2 genome!\n",
      "No matches were found!\n",
      "ACCCUUGUUUCUACUAGCAA was not found in the Sars COV 2 genome!\n",
      "No matches were found!\n",
      "CCCUUGUUUCUACUAGCAAA was not found in the Sars COV 2 genome!\n",
      "No matches were found!\n",
      "UCUACUAGCAAAAGCAGGGU was not found in the Sars COV 2 genome!\n"
     ]
    }
   ],
   "source": [
    "#8\n",
    "#Are there any matches ?\n",
    "for key in K_mers_Influenza:\n",
    "    if key in  K_mers_Sars.keys():\n",
    "        print('Thats a match!')\n",
    "        print(key,\"was found in the Influenza and Sars COV 2 genome!\")\n",
    "    else:\n",
    "        print(\"No matches were found!\")\n",
    "        print(key,\"was not found in the Sars COV 2 genome!\")\n",
    "        "
   ]
  },
  {
   "cell_type": "code",
   "execution_count": 21,
   "id": "23c90eb9",
   "metadata": {},
   "outputs": [],
   "source": [
    "#9\n",
    "#GCSkewArray\n",
    "#Input : It takes in the sequence of the genome of an organism\n",
    "#Output : It returns a list that contains depicts the GC skewness of the genome\n",
    "def GCSkewArray(Genome):\n",
    "    Genome = Genome.upper()\n",
    "    #Declare empty variable\n",
    "    skew=[0]\n",
    "    #Range through the genome\n",
    "    for i in range(len(Genome)):\n",
    "        #If the nucleotide is a cytosine residue, we subtract one\n",
    "        if Genome[i]=='C':\n",
    "            skew.append(skew[i]-1)\n",
    "        #If the nucleotide is a guanine residue we add one\n",
    "        elif Genome[i]=='G':\n",
    "            skew.append(skew[i]+1)\n",
    "        #If the residue is adenine or thymine, we don't take any action\n",
    "        else:\n",
    "            skew.append(skew[i])\n",
    "    return skew"
   ]
  },
  {
   "cell_type": "code",
   "execution_count": 22,
   "id": "b8d40ebe",
   "metadata": {},
   "outputs": [],
   "source": [
    "#ATSkewArray\n",
    "#Input : It takes in the sequence of the genome of an organism\n",
    "#Output : It returns a list that contains depicts the AT skewness of the genome\n",
    "def ATSkewArray(Genome):\n",
    "    Genome = Genome.upper()\n",
    "    #Declare empty variable\n",
    "    skewness=[0]\n",
    "    #Range through the genome\n",
    "    for i in range(len(Genome)):\n",
    "        #We count Us instead of Ts as viruses have uracil instead of thymine.\n",
    "        #If the nucleotide is a uracil residue, we subtract one\n",
    "        if Genome[i]== 'U':\n",
    "            skewness.append(skewness[i]-1)\n",
    "        #If the nucleotide is an adenine residue we add one\n",
    "        elif Genome[i]=='A':\n",
    "            skewness.append(skewness[i]+1)\n",
    "        #If the residue is cytosine or guanine, we don't take any action\n",
    "        else:\n",
    "            skewness.append(skewness[i])\n",
    "    return skewness"
   ]
  },
  {
   "cell_type": "code",
   "execution_count": 23,
   "id": "e54efc7c",
   "metadata": {},
   "outputs": [],
   "source": [
    "#GC and AT Skew arrays of Influenza\n",
    "Influenza_GC_Skewness = GCSkewArray(Influenza)\n",
    "Influenza_AT_Skewness = ATSkewArray(Influenza)"
   ]
  },
  {
   "cell_type": "code",
   "execution_count": 24,
   "id": "9d93ef31",
   "metadata": {},
   "outputs": [],
   "source": [
    "#GC and AT Skew arrays of Sars COV 2\n",
    "Sars_GC_Skewness = GCSkewArray(Sars)\n",
    "Sars_AT_Skewness = ATSkewArray(Sars)"
   ]
  },
  {
   "cell_type": "code",
   "execution_count": 25,
   "id": "7d95047b",
   "metadata": {},
   "outputs": [],
   "source": [
    "#10\n",
    "#Plotting and Comparing the GC skewness of Influenza and Sars"
   ]
  },
  {
   "cell_type": "code",
   "execution_count": 26,
   "id": "54f79587",
   "metadata": {},
   "outputs": [
    {
     "data": {
      "text/plain": [
       "[<matplotlib.lines.Line2D at 0x7f7beeb2a860>]"
      ]
     },
     "execution_count": 26,
     "metadata": {},
     "output_type": "execute_result"
    },
    {
     "data": {
      "image/png": "[encoded data removed]",
      "text/plain": [
       "<Figure size 640x480 with 1 Axes>"
      ]
     },
     "metadata": {},
     "output_type": "display_data"
    }
   ],
   "source": [
    "#Using matplotlib to draw the graphs \n",
    "from matplotlib import pyplot as plt\n",
    "#GC skewness of Influenza\n",
    "#Set labels\n",
    "plt.xlabel(\"Nucleotide Position\")\n",
    "plt.ylabel(\"GC Skewness\")\n",
    "plt.plot(Influenza_GC_Skewness)\n"
   ]
  },
  {
   "cell_type": "code",
   "execution_count": 27,
   "id": "fed9ebc5",
   "metadata": {},
   "outputs": [
    {
     "data": {
      "text/plain": [
       "[<matplotlib.lines.Line2D at 0x7f7be6a58f40>]"
      ]
     },
     "execution_count": 27,
     "metadata": {},
     "output_type": "execute_result"
    },
    {
     "data": {
      "image/png": "[encoded data removed]",
      "text/plain": [
       "<Figure size 640x480 with 1 Axes>"
      ]
     },
     "metadata": {},
     "output_type": "display_data"
    }
   ],
   "source": [
    "#GC skewness of Sars COV 2\n",
    "#Set labels\n",
    "plt.xlabel(\"Nucleotide Position\")\n",
    "plt.ylabel(\"GC Skewness\")\n",
    "plt.plot(Sars_GC_Skewness)"
   ]
  },
  {
   "cell_type": "code",
   "execution_count": 28,
   "id": "0524604f",
   "metadata": {},
   "outputs": [
    {
     "data": {
      "text/plain": [
       "[<matplotlib.lines.Line2D at 0x7f7be6ac1b70>]"
      ]
     },
     "execution_count": 28,
     "metadata": {},
     "output_type": "execute_result"
    },
    {
     "data": {
      "image/png": "[encoded data removed]",
      "text/plain": [
       "<Figure size 640x480 with 1 Axes>"
      ]
     },
     "metadata": {},
     "output_type": "display_data"
    }
   ],
   "source": [
    "#AT skewness of Influenza\n",
    "#Set labels\n",
    "plt.xlabel(\"Nucleotide Position\")\n",
    "plt.ylabel(\"AT Skewness\")\n",
    "plt.plot(Influenza_AT_Skewness)"
   ]
  },
  {
   "cell_type": "code",
   "execution_count": 29,
   "id": "50ae9cdf",
   "metadata": {},
   "outputs": [
    {
     "data": {
      "text/plain": [
       "[<matplotlib.lines.Line2D at 0x7f7be694dcc0>]"
      ]
     },
     "execution_count": 29,
     "metadata": {},
     "output_type": "execute_result"
    },
    {
     "data": {
      "image/png": "[encoded data removed]",
      "text/plain": [
       "<Figure size 640x480 with 1 Axes>"
      ]
     },
     "metadata": {},
     "output_type": "display_data"
    }
   ],
   "source": [
    "#AT skewness of Sars COV 2\n",
    "#Set labels\n",
    "plt.xlabel(\"Nucleotide Position\")\n",
    "plt.ylabel(\"AT Skewness\")\n",
    "plt.plot(Sars_AT_Skewness)"
   ]
  }
 ],
 "metadata": {
  "kernelspec": {
   "display_name": "Python 3",
   "language": "python",
   "name": "python3"
  },
  "language_info": {
   "codemirror_mode": {
    "name": "ipython",
    "version": 3
   },
   "file_extension": ".py",
   "mimetype": "text/x-python",
   "name": "python",
   "nbconvert_exporter": "python",
   "pygments_lexer": "ipython3",
   "version": "3.7.10"
  }
 },
 "nbformat": 4,
 "nbformat_minor": 5
}
